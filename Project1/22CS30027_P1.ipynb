{
 "cells": [
  {
   "cell_type": "markdown",
   "metadata": {
    "vscode": {
     "languageId": "raw"
    }
   },
   "source": [
    "# APPLICATION OF MACHINE LEARNING PROJECT 1"
   ]
  },
  {
   "cell_type": "markdown",
   "metadata": {},
   "source": [
    "### 22CS30027\n",
    "### Golla Meghanandh Manvith Prabhash"
   ]
  },
  {
   "cell_type": "markdown",
   "metadata": {},
   "source": [
    "project on Linear Regression"
   ]
  },
  {
   "cell_type": "code",
   "execution_count": 1,
   "metadata": {},
   "outputs": [],
   "source": [
    "#import all the required Libraries\n",
    "import pandas as pd\n",
    "import copy\n",
    "import numpy as np\n",
    "import matplotlib.pyplot as plt"
   ]
  },
  {
   "cell_type": "code",
   "execution_count": 2,
   "metadata": {},
   "outputs": [],
   "source": [
    "#Read the CSV File \n",
    "data = pd.read_csv('./data_insurance.csv')"
   ]
  },
  {
   "cell_type": "code",
   "execution_count": 3,
   "metadata": {
    "scrolled": true
   },
   "outputs": [
    {
     "data": {
      "text/html": [
       "<div>\n",
       "<style scoped>\n",
       "    .dataframe tbody tr th:only-of-type {\n",
       "        vertical-align: middle;\n",
       "    }\n",
       "\n",
       "    .dataframe tbody tr th {\n",
       "        vertical-align: top;\n",
       "    }\n",
       "\n",
       "    .dataframe thead th {\n",
       "        text-align: right;\n",
       "    }\n",
       "</style>\n",
       "<table border=\"1\" class=\"dataframe\">\n",
       "  <thead>\n",
       "    <tr style=\"text-align: right;\">\n",
       "      <th></th>\n",
       "      <th>age</th>\n",
       "      <th>sex</th>\n",
       "      <th>bmi</th>\n",
       "      <th>children</th>\n",
       "      <th>smoker</th>\n",
       "      <th>region</th>\n",
       "      <th>charges</th>\n",
       "    </tr>\n",
       "  </thead>\n",
       "  <tbody>\n",
       "    <tr>\n",
       "      <th>0</th>\n",
       "      <td>19</td>\n",
       "      <td>female</td>\n",
       "      <td>27.900</td>\n",
       "      <td>0</td>\n",
       "      <td>yes</td>\n",
       "      <td>southwest</td>\n",
       "      <td>16884.92400</td>\n",
       "    </tr>\n",
       "    <tr>\n",
       "      <th>1</th>\n",
       "      <td>18</td>\n",
       "      <td>male</td>\n",
       "      <td>33.770</td>\n",
       "      <td>1</td>\n",
       "      <td>no</td>\n",
       "      <td>southeast</td>\n",
       "      <td>1725.55230</td>\n",
       "    </tr>\n",
       "    <tr>\n",
       "      <th>2</th>\n",
       "      <td>28</td>\n",
       "      <td>male</td>\n",
       "      <td>33.000</td>\n",
       "      <td>3</td>\n",
       "      <td>no</td>\n",
       "      <td>southeast</td>\n",
       "      <td>4449.46200</td>\n",
       "    </tr>\n",
       "    <tr>\n",
       "      <th>3</th>\n",
       "      <td>33</td>\n",
       "      <td>male</td>\n",
       "      <td>22.705</td>\n",
       "      <td>0</td>\n",
       "      <td>no</td>\n",
       "      <td>northwest</td>\n",
       "      <td>21984.47061</td>\n",
       "    </tr>\n",
       "    <tr>\n",
       "      <th>4</th>\n",
       "      <td>32</td>\n",
       "      <td>male</td>\n",
       "      <td>28.880</td>\n",
       "      <td>0</td>\n",
       "      <td>no</td>\n",
       "      <td>northwest</td>\n",
       "      <td>3866.85520</td>\n",
       "    </tr>\n",
       "  </tbody>\n",
       "</table>\n",
       "</div>"
      ],
      "text/plain": [
       "   age     sex     bmi  children smoker     region      charges\n",
       "0   19  female  27.900         0    yes  southwest  16884.92400\n",
       "1   18    male  33.770         1     no  southeast   1725.55230\n",
       "2   28    male  33.000         3     no  southeast   4449.46200\n",
       "3   33    male  22.705         0     no  northwest  21984.47061\n",
       "4   32    male  28.880         0     no  northwest   3866.85520"
      ]
     },
     "execution_count": 3,
     "metadata": {},
     "output_type": "execute_result"
    }
   ],
   "source": [
    "#Printing The Head Part of Data\n",
    "data.head()"
   ]
  },
  {
   "cell_type": "code",
   "execution_count": 4,
   "metadata": {},
   "outputs": [
    {
     "data": {
      "text/html": [
       "<div>\n",
       "<style scoped>\n",
       "    .dataframe tbody tr th:only-of-type {\n",
       "        vertical-align: middle;\n",
       "    }\n",
       "\n",
       "    .dataframe tbody tr th {\n",
       "        vertical-align: top;\n",
       "    }\n",
       "\n",
       "    .dataframe thead th {\n",
       "        text-align: right;\n",
       "    }\n",
       "</style>\n",
       "<table border=\"1\" class=\"dataframe\">\n",
       "  <thead>\n",
       "    <tr style=\"text-align: right;\">\n",
       "      <th></th>\n",
       "      <th>age</th>\n",
       "      <th>bmi</th>\n",
       "      <th>children</th>\n",
       "      <th>charges</th>\n",
       "    </tr>\n",
       "  </thead>\n",
       "  <tbody>\n",
       "    <tr>\n",
       "      <th>count</th>\n",
       "      <td>1338.000000</td>\n",
       "      <td>1338.000000</td>\n",
       "      <td>1338.000000</td>\n",
       "      <td>1338.000000</td>\n",
       "    </tr>\n",
       "    <tr>\n",
       "      <th>mean</th>\n",
       "      <td>39.207025</td>\n",
       "      <td>30.663397</td>\n",
       "      <td>1.094918</td>\n",
       "      <td>13270.422265</td>\n",
       "    </tr>\n",
       "    <tr>\n",
       "      <th>std</th>\n",
       "      <td>14.049960</td>\n",
       "      <td>6.098187</td>\n",
       "      <td>1.205493</td>\n",
       "      <td>12110.011237</td>\n",
       "    </tr>\n",
       "    <tr>\n",
       "      <th>min</th>\n",
       "      <td>18.000000</td>\n",
       "      <td>15.960000</td>\n",
       "      <td>0.000000</td>\n",
       "      <td>1121.873900</td>\n",
       "    </tr>\n",
       "    <tr>\n",
       "      <th>25%</th>\n",
       "      <td>27.000000</td>\n",
       "      <td>26.296250</td>\n",
       "      <td>0.000000</td>\n",
       "      <td>4740.287150</td>\n",
       "    </tr>\n",
       "    <tr>\n",
       "      <th>50%</th>\n",
       "      <td>39.000000</td>\n",
       "      <td>30.400000</td>\n",
       "      <td>1.000000</td>\n",
       "      <td>9382.033000</td>\n",
       "    </tr>\n",
       "    <tr>\n",
       "      <th>75%</th>\n",
       "      <td>51.000000</td>\n",
       "      <td>34.693750</td>\n",
       "      <td>2.000000</td>\n",
       "      <td>16639.912515</td>\n",
       "    </tr>\n",
       "    <tr>\n",
       "      <th>max</th>\n",
       "      <td>64.000000</td>\n",
       "      <td>53.130000</td>\n",
       "      <td>5.000000</td>\n",
       "      <td>63770.428010</td>\n",
       "    </tr>\n",
       "  </tbody>\n",
       "</table>\n",
       "</div>"
      ],
      "text/plain": [
       "               age          bmi     children       charges\n",
       "count  1338.000000  1338.000000  1338.000000   1338.000000\n",
       "mean     39.207025    30.663397     1.094918  13270.422265\n",
       "std      14.049960     6.098187     1.205493  12110.011237\n",
       "min      18.000000    15.960000     0.000000   1121.873900\n",
       "25%      27.000000    26.296250     0.000000   4740.287150\n",
       "50%      39.000000    30.400000     1.000000   9382.033000\n",
       "75%      51.000000    34.693750     2.000000  16639.912515\n",
       "max      64.000000    53.130000     5.000000  63770.428010"
      ]
     },
     "execution_count": 4,
     "metadata": {},
     "output_type": "execute_result"
    }
   ],
   "source": [
    "#Analysing the Data Given in the CSV File\n",
    "data.describe()"
   ]
  },
  {
   "cell_type": "code",
   "execution_count": 5,
   "metadata": {},
   "outputs": [
    {
     "data": {
      "text/plain": [
       "age           int64\n",
       "sex          object\n",
       "bmi         float64\n",
       "children      int64\n",
       "smoker       object\n",
       "region       object\n",
       "charges     float64\n",
       "dtype: object"
      ]
     },
     "execution_count": 5,
     "metadata": {},
     "output_type": "execute_result"
    }
   ],
   "source": [
    "#Printing the Data Types of the Data\n",
    "data.dtypes"
   ]
  },
  {
   "cell_type": "code",
   "execution_count": 6,
   "metadata": {},
   "outputs": [
    {
     "name": "stdout",
     "output_type": "stream",
     "text": [
      "age         0\n",
      "sex         0\n",
      "bmi         0\n",
      "children    0\n",
      "smoker      0\n",
      "region      0\n",
      "charges     0\n",
      "dtype: int64\n"
     ]
    }
   ],
   "source": [
    "#Check is any Data NULL or Not\n",
    "missing_values = data.isnull().sum()\n",
    "print(missing_values)"
   ]
  },
  {
   "cell_type": "code",
   "execution_count": 7,
   "metadata": {},
   "outputs": [],
   "source": [
    "#Drop Rows With NULL Values\n",
    "data = data.dropna()"
   ]
  },
  {
   "cell_type": "code",
   "execution_count": 8,
   "metadata": {},
   "outputs": [],
   "source": [
    "#Encoder Function\n",
    "def encoder(data,i):\n",
    "    uc = np.unique(data[i])\n",
    "    if(len(uc)==2):\n",
    "        data[i] = np.where(data[i] == uc[0], 0, data[i])\n",
    "        data[i] = np.where(data[i] == uc[1], 1, data[i])\n",
    "    elif(len(uc)==4) :\n",
    "        data[i] = np.where(data[i] == uc[0], 0, data[i])\n",
    "        data[i] = np.where(data[i] == uc[1], 1, data[i])\n",
    "        data[i] = np.where(data[i] == uc[2], 2, data[i])\n",
    "        data[i] = np.where(data[i] == uc[3], 3, data[i])\n",
    "    return data"
   ]
  },
  {
   "cell_type": "code",
   "execution_count": 9,
   "metadata": {},
   "outputs": [],
   "source": [
    "#Encoding for Sex field\n",
    "data = encoder(data,'sex')\n",
    "\n",
    "#Encoding for Smoker field\n",
    "data= encoder(data,'smoker')\n",
    "\n",
    "#Encoding for Region field\n",
    "data = encoder(data,'region')"
   ]
  },
  {
   "cell_type": "code",
   "execution_count": 10,
   "metadata": {},
   "outputs": [],
   "source": [
    "#Splitting data as Input Features and Output Features\n",
    "X = data.drop('charges', axis=1)\n",
    "y = data['charges']"
   ]
  },
  {
   "cell_type": "code",
   "execution_count": 11,
   "metadata": {},
   "outputs": [],
   "source": [
    "#min-max scalling function\n",
    "def min_max_scaler(X, feature_range=(0, 1)):\n",
    "    X_min = np.min(X, axis=0)\n",
    "    X_max = np.max(X, axis=0)\n",
    "\n",
    "    X_scaled = (X-X_min)/(X_max-X_min)\n",
    "\n",
    "    return X_scaled"
   ]
  },
  {
   "cell_type": "code",
   "execution_count": 12,
   "metadata": {},
   "outputs": [],
   "source": [
    "#calling min-max scalling function\n",
    "X = min_max_scaler(X)"
   ]
  },
  {
   "cell_type": "code",
   "execution_count": 13,
   "metadata": {},
   "outputs": [],
   "source": [
    "def train_test_split(X, y, test_size=0.25, random_state=None):\n",
    "    if random_state is not None:\n",
    "        np.random.seed(random_state)\n",
    "    indices = np.arange(X.shape[0])\n",
    "    np.random.shuffle(indices)\n",
    "\n",
    "    split_index = int(X.shape[0] * (1 - test_size))\n",
    "\n",
    "    train_indices = indices[:split_index]\n",
    "    test_indices = indices[split_index:]\n",
    "\n",
    "    X_train = X[train_indices]\n",
    "    X_test = X[test_indices]\n",
    "    y_train = y[train_indices]\n",
    "    y_test = y[test_indices]\n",
    "\n",
    "    return X_train, X_test, y_train, y_test"
   ]
  },
  {
   "cell_type": "code",
   "execution_count": 14,
   "metadata": {},
   "outputs": [],
   "source": [
    "#Diving the X and y as Train and Test Set \n",
    "X_train, X_test, y_train, y_test = train_test_split(X.values, y.values, test_size=0.25, random_state=42)"
   ]
  },
  {
   "cell_type": "code",
   "execution_count": 15,
   "metadata": {},
   "outputs": [],
   "source": [
    "#defining Loss function\n",
    "def loss_function(X, y, w, b):\n",
    "    # number of training examples\n",
    "    m = X.shape[0]\n",
    "    loss = 0\n",
    "    preds = np.dot(X, w.T) + b\n",
    "    squared_errors = (y.reshape(-1, 1) - preds) ** 2\n",
    "    loss = np.sum(squared_errors) / (2 * m)\n",
    "    return loss"
   ]
  },
  {
   "cell_type": "code",
   "execution_count": 16,
   "metadata": {},
   "outputs": [],
   "source": [
    "#defining R_2 error\n",
    "def R_2_error(X,y,w,b):\n",
    "    preds = np.dot(X, w.T) + b\n",
    "    y_mean = np.mean(y)\n",
    "    ss_total = np.sum((y.reshape(-1,1)-y_mean)**2)\n",
    "    ss_residual = np.sum((y.reshape(-1,1)-preds)**2)\n",
    "    R_2 = 1 - (ss_residual/ss_total)\n",
    "    return R_2"
   ]
  },
  {
   "cell_type": "code",
   "execution_count": 17,
   "metadata": {},
   "outputs": [],
   "source": [
    "#defining function for computing Gradient Decent\n",
    "def compute_gradient(X, y, w, b):\n",
    "    # Number of training examples\n",
    "    m = X.shape[0]\n",
    "    dL_dw = None\n",
    "    dL_db = None\n",
    "    dL_dw = np.zeros(w.shape)\n",
    "    dL_db = 0\n",
    "    preds = np.dot(X, w.T) + b\n",
    "    errors = preds - y.reshape(-1, 1)\n",
    "    dL_dw = np.dot(errors.T, X) / m\n",
    "    dL_db = np.sum(errors)/ m\n",
    "    return dL_dw, dL_db"
   ]
  },
  {
   "cell_type": "code",
   "execution_count": 18,
   "metadata": {},
   "outputs": [],
   "source": [
    "#function for caliculating batch gradient descent\n",
    "def batch_gradient_descent(X, y, w_initial, b_initial, alpha, num_iters):\n",
    "    # number of training examples\n",
    "    m = X.shape[0]\n",
    "    # to store loss values for every iteation as a list and print loss value after every 100 iterations\n",
    "    loss_hist = []\n",
    "    # Initialize parameters\n",
    "    w = copy.deepcopy(w_initial) ## deepcopy is used so that the updates do not change the initial variable values\n",
    "    b = b_initial\n",
    "    for i in range(1,num_iters+1):\n",
    "        dL_dw,dL_db = compute_gradient(X,y,w,b)\n",
    "        w = w - alpha * dL_dw\n",
    "        b = b - alpha * dL_db\n",
    "        loss_hist.append(loss_function(X,y,w,b))\n",
    "        if i%100 == 0:\n",
    "          print(f\"Loss at iteration {i}: {loss_hist[-1]}\")\n",
    "    return w, b, loss_hist"
   ]
  },
  {
   "cell_type": "code",
   "execution_count": 19,
   "metadata": {},
   "outputs": [],
   "source": [
    "def initialize_parameters():\n",
    "    initial_w = None\n",
    "    initial_b = None\n",
    "    alpha = None\n",
    "    n,m=X.shape\n",
    "    np.random.seed(27)\n",
    "    initial_w = np.random.normal(0, 1, (1,m))\n",
    "    initial_b = np.random.normal(loc=0.0, scale=1.0)\n",
    "    alpha = np.random.uniform(0.07, 0.08)\n",
    "    return initial_w,initial_b,alpha"
   ]
  },
  {
   "cell_type": "code",
   "execution_count": 20,
   "metadata": {},
   "outputs": [
    {
     "name": "stdout",
     "output_type": "stream",
     "text": [
      "alpha : \n",
      "0.07741827647412741\n",
      "initial_w : \n",
      "[[ 1.28560542 -0.30355338  0.61907566  0.39599855  0.22340565 -0.05433942]]\n",
      "initial_b: \n",
      "-0.17927632611276223\n",
      "Loss at iteration 100: 23996475.90701753\n",
      "Loss at iteration 200: 19707810.761602726\n",
      "Loss at iteration 300: 18916438.17637115\n",
      "Loss at iteration 400: 18621214.71759827\n",
      "Loss at iteration 500: 18462873.64577255\n",
      "Loss at iteration 600: 18365638.555734266\n",
      "Loss at iteration 700: 18302293.652053528\n",
      "Loss at iteration 800: 18259777.700548917\n",
      "Loss at iteration 900: 18230790.3407788\n",
      "Loss at iteration 1000: 18210861.5934947\n",
      "Loss at iteration 1100: 18197099.769728605\n",
      "Loss at iteration 1200: 18187573.908816647\n",
      "Loss at iteration 1300: 18180971.660040595\n",
      "Loss at iteration 1400: 18176392.492699053\n",
      "Loss at iteration 1500: 18173215.238696806\n",
      "Loss at iteration 1600: 18171010.212619297\n",
      "Loss at iteration 1700: 18169479.722013805\n",
      "Loss at iteration 1800: 18168417.342769008\n",
      "Loss at iteration 1900: 18167679.867859628\n",
      "Loss at iteration 2000: 18167167.91962286\n",
      "Updated w:  [[np.float64(12175.303067676754) np.float64(0.8493706681041306)\n",
      "  np.float64(11675.311585641863) np.float64(2671.7146015170665)\n",
      "  np.float64(23688.531433711254) np.float64(-1135.5314571955305)]]\n",
      "Updated b:  -1908.2052944778416\n"
     ]
    }
   ],
   "source": [
    "# initialize the parameters and hyperparameter\n",
    "initial_w, initial_b, alpha = initialize_parameters()\n",
    "\n",
    "#print initialization\n",
    "print(\"alpha : \",alpha,\"initial_w : \",initial_w,\"initial_b: \",initial_b,sep='\\n')\n",
    "# number of iterations\n",
    "num_iters = 2000\n",
    "\n",
    "w,b,loss_hist = batch_gradient_descent(X_train ,y_train, initial_w, initial_b, alpha, num_iters)\n",
    "print(\"Updated w: \",w)\n",
    "print(\"Updated b: \",b)"
   ]
  },
  {
   "cell_type": "markdown",
   "metadata": {},
   "source": [
    "### We Observe that W[4] is the highest which corresponds to the Smoker\n",
    "#### i.e if person is smoker the charges are very hig"
   ]
  },
  {
   "cell_type": "code",
   "execution_count": 21,
   "metadata": {},
   "outputs": [
    {
     "name": "stdout",
     "output_type": "stream",
     "text": [
      "Mean Square Train Error:  18167167.91962286 , Mean Square Test Error:  18634146.8595109\n"
     ]
    }
   ],
   "source": [
    "## Mean Square Train and Test error computation\n",
    "train_error = loss_function(X_train,y_train,w,b)\n",
    "test_error = loss_function(X_test,y_test,w,b)\n",
    "print(\"Mean Square Train Error: \",train_error, \", Mean Square Test Error: \",test_error)"
   ]
  },
  {
   "cell_type": "code",
   "execution_count": 22,
   "metadata": {},
   "outputs": [
    {
     "name": "stdout",
     "output_type": "stream",
     "text": [
      "R Square Train Error:  0.7536951691150247 , R Squared Test Error:  0.740087904428226\n"
     ]
    }
   ],
   "source": [
    "## R Square Train and Test error computation\n",
    "R2_train_error = R_2_error(X_train,y_train,w,b)\n",
    "R2_test_error = R_2_error(X_test,y_test,w,b)\n",
    "print(\"R Square Train Error: \",R2_train_error, \", R Squared Test Error: \",R2_test_error)"
   ]
  },
  {
   "cell_type": "code",
   "execution_count": 23,
   "metadata": {},
   "outputs": [
    {
     "data": {
      "image/png": "[encoded data removed]",
      "text/plain": [
       "<Figure size 640x480 with 1 Axes>"
      ]
     },
     "metadata": {},
     "output_type": "display_data"
    }
   ],
   "source": [
    "# PLotting the loss values for every training iterations\n",
    "loss_plot = [loss_hist[i] for i in range(len(loss_hist))]\n",
    "plt.xlabel(\"Iterations\")\n",
    "plt.ylabel(\"Loss function\")\n",
    "plt.plot(loss_plot)\n",
    "plt.show()"
   ]
  }
 ],
 "metadata": {
  "kernelspec": {
   "display_name": "Python 3 (ipykernel)",
   "language": "python",
   "name": "python3"
  },
  "language_info": {
   "codemirror_mode": {
    "name": "ipython",
    "version": 3
   },
   "file_extension": ".py",
   "mimetype": "text/x-python",
   "name": "python",
   "nbconvert_exporter": "python",
   "pygments_lexer": "ipython3",
   "version": "3.12.3"
  }
 },
 "nbformat": 4,
 "nbformat_minor": 4
}
