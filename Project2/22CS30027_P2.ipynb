{
 "cells": [
  {
   "cell_type": "markdown",
   "id": "1ff1ebdf-caf3-45cc-8033-ae4efdc924a8",
   "metadata": {},
   "source": [
    "# APPLICATION OF MACHINE LEARNING PROJECT 2"
   ]
  },
  {
   "cell_type": "markdown",
   "id": "fc44711c-d792-4f4b-838d-0de3867eed82",
   "metadata": {},
   "source": [
    "### 22CS30027\n",
    "### Golla Meghanandh Manvith Prabhash"
   ]
  },
  {
   "cell_type": "markdown",
   "id": "fb8693cd-2b55-4a8a-81ff-8e0547085a8d",
   "metadata": {},
   "source": [
    "project on Logistic Regression"
   ]
  },
  {
   "cell_type": "code",
   "execution_count": null,
   "id": "503dfbef-3abb-443c-ac36-aeba58dbd1f9",
   "metadata": {},
   "outputs": [],
   "source": []
  }
 ],
 "metadata": {
  "kernelspec": {
   "display_name": "Python 3 (ipykernel)",
   "language": "python",
   "name": "python3"
  },
  "language_info": {
   "codemirror_mode": {
    "name": "ipython",
    "version": 3
   },
   "file_extension": ".py",
   "mimetype": "text/x-python",
   "name": "python",
   "nbconvert_exporter": "python",
   "pygments_lexer": "ipython3",
   "version": "3.12.3"
  }
 },
 "nbformat": 4,
 "nbformat_minor": 5
}
