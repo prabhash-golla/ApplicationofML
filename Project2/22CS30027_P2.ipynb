{
 "cells": [
  {
   "cell_type": "markdown",
   "id": "1ff1ebdf-caf3-45cc-8033-ae4efdc924a8",
   "metadata": {},
   "source": [
    "# APPLICATION OF MACHINE LEARNING IN BIOLOGICAL SYSTEMS (ES60011) PROJECT 2"
   ]
  },
  {
   "cell_type": "markdown",
   "id": "fc44711c-d792-4f4b-838d-0de3867eed82",
   "metadata": {},
   "source": [
    "### 22CS30027\n",
    "### Golla Meghanandh Manvith Prabhash"
   ]
  },
  {
   "cell_type": "markdown",
   "id": "fb8693cd-2b55-4a8a-81ff-8e0547085a8d",
   "metadata": {},
   "source": [
    "##### Project on Logistic Regression"
   ]
  },
  {
   "cell_type": "markdown",
   "id": "16813ad0-d6c9-4983-acd2-df959c25d915",
   "metadata": {},
   "source": [
    "### Reading the Data"
   ]
  },
  {
   "cell_type": "code",
   "execution_count": 1,
   "id": "503dfbef-3abb-443c-ac36-aeba58dbd1f9",
   "metadata": {},
   "outputs": [],
   "source": [
    "import numpy as np\n",
    "import pandas as pd\n",
    "import matplotlib.pyplot as plt\n",
    "from scipy.special import logsumexp\n",
    "import copy\n",
    "import math"
   ]
  },
  {
   "cell_type": "code",
   "execution_count": 2,
   "id": "8a76ad16-8d77-41cd-8102-ea8496b88ba0",
   "metadata": {},
   "outputs": [],
   "source": [
    "#Read the CSV File \n",
    "data = pd.read_csv('./framingham.csv')"
   ]
  },
  {
   "cell_type": "code",
   "execution_count": 3,
   "id": "097e9f4f-ebaf-42f1-afc5-37cd700911aa",
   "metadata": {},
   "outputs": [
    {
     "data": {
      "text/html": [
       "<div>\n",
       "<style scoped>\n",
       "    .dataframe tbody tr th:only-of-type {\n",
       "        vertical-align: middle;\n",
       "    }\n",
       "\n",
       "    .dataframe tbody tr th {\n",
       "        vertical-align: top;\n",
       "    }\n",
       "\n",
       "    .dataframe thead th {\n",
       "        text-align: right;\n",
       "    }\n",
       "</style>\n",
       "<table border=\"1\" class=\"dataframe\">\n",
       "  <thead>\n",
       "    <tr style=\"text-align: right;\">\n",
       "      <th></th>\n",
       "      <th>male</th>\n",
       "      <th>age</th>\n",
       "      <th>education</th>\n",
       "      <th>currentSmoker</th>\n",
       "      <th>cigsPerDay</th>\n",
       "      <th>BPMeds</th>\n",
       "      <th>prevalentStroke</th>\n",
       "      <th>prevalentHyp</th>\n",
       "      <th>diabetes</th>\n",
       "      <th>totChol</th>\n",
       "      <th>sysBP</th>\n",
       "      <th>diaBP</th>\n",
       "      <th>BMI</th>\n",
       "      <th>heartRate</th>\n",
       "      <th>glucose</th>\n",
       "      <th>TenYearCHD</th>\n",
       "    </tr>\n",
       "  </thead>\n",
       "  <tbody>\n",
       "    <tr>\n",
       "      <th>0</th>\n",
       "      <td>1</td>\n",
       "      <td>39</td>\n",
       "      <td>4.0</td>\n",
       "      <td>0</td>\n",
       "      <td>0.0</td>\n",
       "      <td>0.0</td>\n",
       "      <td>0</td>\n",
       "      <td>0</td>\n",
       "      <td>0</td>\n",
       "      <td>195.0</td>\n",
       "      <td>106.0</td>\n",
       "      <td>70.0</td>\n",
       "      <td>26.97</td>\n",
       "      <td>80.0</td>\n",
       "      <td>77.0</td>\n",
       "      <td>0</td>\n",
       "    </tr>\n",
       "    <tr>\n",
       "      <th>1</th>\n",
       "      <td>0</td>\n",
       "      <td>46</td>\n",
       "      <td>2.0</td>\n",
       "      <td>0</td>\n",
       "      <td>0.0</td>\n",
       "      <td>0.0</td>\n",
       "      <td>0</td>\n",
       "      <td>0</td>\n",
       "      <td>0</td>\n",
       "      <td>250.0</td>\n",
       "      <td>121.0</td>\n",
       "      <td>81.0</td>\n",
       "      <td>28.73</td>\n",
       "      <td>95.0</td>\n",
       "      <td>76.0</td>\n",
       "      <td>0</td>\n",
       "    </tr>\n",
       "    <tr>\n",
       "      <th>2</th>\n",
       "      <td>1</td>\n",
       "      <td>48</td>\n",
       "      <td>1.0</td>\n",
       "      <td>1</td>\n",
       "      <td>20.0</td>\n",
       "      <td>0.0</td>\n",
       "      <td>0</td>\n",
       "      <td>0</td>\n",
       "      <td>0</td>\n",
       "      <td>245.0</td>\n",
       "      <td>127.5</td>\n",
       "      <td>80.0</td>\n",
       "      <td>25.34</td>\n",
       "      <td>75.0</td>\n",
       "      <td>70.0</td>\n",
       "      <td>0</td>\n",
       "    </tr>\n",
       "    <tr>\n",
       "      <th>3</th>\n",
       "      <td>0</td>\n",
       "      <td>61</td>\n",
       "      <td>3.0</td>\n",
       "      <td>1</td>\n",
       "      <td>30.0</td>\n",
       "      <td>0.0</td>\n",
       "      <td>0</td>\n",
       "      <td>1</td>\n",
       "      <td>0</td>\n",
       "      <td>225.0</td>\n",
       "      <td>150.0</td>\n",
       "      <td>95.0</td>\n",
       "      <td>28.58</td>\n",
       "      <td>65.0</td>\n",
       "      <td>103.0</td>\n",
       "      <td>1</td>\n",
       "    </tr>\n",
       "    <tr>\n",
       "      <th>4</th>\n",
       "      <td>0</td>\n",
       "      <td>46</td>\n",
       "      <td>3.0</td>\n",
       "      <td>1</td>\n",
       "      <td>23.0</td>\n",
       "      <td>0.0</td>\n",
       "      <td>0</td>\n",
       "      <td>0</td>\n",
       "      <td>0</td>\n",
       "      <td>285.0</td>\n",
       "      <td>130.0</td>\n",
       "      <td>84.0</td>\n",
       "      <td>23.10</td>\n",
       "      <td>85.0</td>\n",
       "      <td>85.0</td>\n",
       "      <td>0</td>\n",
       "    </tr>\n",
       "  </tbody>\n",
       "</table>\n",
       "</div>"
      ],
      "text/plain": [
       "   male  age  education  currentSmoker  cigsPerDay  BPMeds  prevalentStroke  \\\n",
       "0     1   39        4.0              0         0.0     0.0                0   \n",
       "1     0   46        2.0              0         0.0     0.0                0   \n",
       "2     1   48        1.0              1        20.0     0.0                0   \n",
       "3     0   61        3.0              1        30.0     0.0                0   \n",
       "4     0   46        3.0              1        23.0     0.0                0   \n",
       "\n",
       "   prevalentHyp  diabetes  totChol  sysBP  diaBP    BMI  heartRate  glucose  \\\n",
       "0             0         0    195.0  106.0   70.0  26.97       80.0     77.0   \n",
       "1             0         0    250.0  121.0   81.0  28.73       95.0     76.0   \n",
       "2             0         0    245.0  127.5   80.0  25.34       75.0     70.0   \n",
       "3             1         0    225.0  150.0   95.0  28.58       65.0    103.0   \n",
       "4             0         0    285.0  130.0   84.0  23.10       85.0     85.0   \n",
       "\n",
       "   TenYearCHD  \n",
       "0           0  \n",
       "1           0  \n",
       "2           0  \n",
       "3           1  \n",
       "4           0  "
      ]
     },
     "execution_count": 3,
     "metadata": {},
     "output_type": "execute_result"
    }
   ],
   "source": [
    "#Print the head of the given data set\n",
    "data.head()"
   ]
  },
  {
   "cell_type": "code",
   "execution_count": 4,
   "id": "a4c2ee07-160d-48f7-b857-471cd65f91ac",
   "metadata": {},
   "outputs": [
    {
     "data": {
      "text/plain": [
       "(4240, 16)"
      ]
     },
     "execution_count": 4,
     "metadata": {},
     "output_type": "execute_result"
    }
   ],
   "source": [
    "#Print Shape of data set given\n",
    "data.shape"
   ]
  },
  {
   "cell_type": "code",
   "execution_count": 5,
   "id": "f8695b2c-b17a-4c88-8506-3ed4e24ba9dd",
   "metadata": {},
   "outputs": [
    {
     "data": {
      "text/html": [
       "<div>\n",
       "<style scoped>\n",
       "    .dataframe tbody tr th:only-of-type {\n",
       "        vertical-align: middle;\n",
       "    }\n",
       "\n",
       "    .dataframe tbody tr th {\n",
       "        vertical-align: top;\n",
       "    }\n",
       "\n",
       "    .dataframe thead th {\n",
       "        text-align: right;\n",
       "    }\n",
       "</style>\n",
       "<table border=\"1\" class=\"dataframe\">\n",
       "  <thead>\n",
       "    <tr style=\"text-align: right;\">\n",
       "      <th></th>\n",
       "      <th>male</th>\n",
       "      <th>age</th>\n",
       "      <th>education</th>\n",
       "      <th>currentSmoker</th>\n",
       "      <th>cigsPerDay</th>\n",
       "      <th>BPMeds</th>\n",
       "      <th>prevalentStroke</th>\n",
       "      <th>prevalentHyp</th>\n",
       "      <th>diabetes</th>\n",
       "      <th>totChol</th>\n",
       "      <th>sysBP</th>\n",
       "      <th>diaBP</th>\n",
       "      <th>BMI</th>\n",
       "      <th>heartRate</th>\n",
       "      <th>glucose</th>\n",
       "      <th>TenYearCHD</th>\n",
       "    </tr>\n",
       "  </thead>\n",
       "  <tbody>\n",
       "    <tr>\n",
       "      <th>count</th>\n",
       "      <td>4240.000000</td>\n",
       "      <td>4240.000000</td>\n",
       "      <td>4135.000000</td>\n",
       "      <td>4240.000000</td>\n",
       "      <td>4211.000000</td>\n",
       "      <td>4187.000000</td>\n",
       "      <td>4240.000000</td>\n",
       "      <td>4240.000000</td>\n",
       "      <td>4240.000000</td>\n",
       "      <td>4190.000000</td>\n",
       "      <td>4240.000000</td>\n",
       "      <td>4240.000000</td>\n",
       "      <td>4221.000000</td>\n",
       "      <td>4239.000000</td>\n",
       "      <td>3852.000000</td>\n",
       "      <td>4240.000000</td>\n",
       "    </tr>\n",
       "    <tr>\n",
       "      <th>mean</th>\n",
       "      <td>0.429245</td>\n",
       "      <td>49.580189</td>\n",
       "      <td>1.979444</td>\n",
       "      <td>0.494104</td>\n",
       "      <td>9.005937</td>\n",
       "      <td>0.029615</td>\n",
       "      <td>0.005896</td>\n",
       "      <td>0.310613</td>\n",
       "      <td>0.025708</td>\n",
       "      <td>236.699523</td>\n",
       "      <td>132.354599</td>\n",
       "      <td>82.897759</td>\n",
       "      <td>25.800801</td>\n",
       "      <td>75.878981</td>\n",
       "      <td>81.963655</td>\n",
       "      <td>0.151887</td>\n",
       "    </tr>\n",
       "    <tr>\n",
       "      <th>std</th>\n",
       "      <td>0.495027</td>\n",
       "      <td>8.572942</td>\n",
       "      <td>1.019791</td>\n",
       "      <td>0.500024</td>\n",
       "      <td>11.922462</td>\n",
       "      <td>0.169544</td>\n",
       "      <td>0.076569</td>\n",
       "      <td>0.462799</td>\n",
       "      <td>0.158280</td>\n",
       "      <td>44.591284</td>\n",
       "      <td>22.033300</td>\n",
       "      <td>11.910394</td>\n",
       "      <td>4.079840</td>\n",
       "      <td>12.025348</td>\n",
       "      <td>23.954335</td>\n",
       "      <td>0.358953</td>\n",
       "    </tr>\n",
       "    <tr>\n",
       "      <th>min</th>\n",
       "      <td>0.000000</td>\n",
       "      <td>32.000000</td>\n",
       "      <td>1.000000</td>\n",
       "      <td>0.000000</td>\n",
       "      <td>0.000000</td>\n",
       "      <td>0.000000</td>\n",
       "      <td>0.000000</td>\n",
       "      <td>0.000000</td>\n",
       "      <td>0.000000</td>\n",
       "      <td>107.000000</td>\n",
       "      <td>83.500000</td>\n",
       "      <td>48.000000</td>\n",
       "      <td>15.540000</td>\n",
       "      <td>44.000000</td>\n",
       "      <td>40.000000</td>\n",
       "      <td>0.000000</td>\n",
       "    </tr>\n",
       "    <tr>\n",
       "      <th>25%</th>\n",
       "      <td>0.000000</td>\n",
       "      <td>42.000000</td>\n",
       "      <td>1.000000</td>\n",
       "      <td>0.000000</td>\n",
       "      <td>0.000000</td>\n",
       "      <td>0.000000</td>\n",
       "      <td>0.000000</td>\n",
       "      <td>0.000000</td>\n",
       "      <td>0.000000</td>\n",
       "      <td>206.000000</td>\n",
       "      <td>117.000000</td>\n",
       "      <td>75.000000</td>\n",
       "      <td>23.070000</td>\n",
       "      <td>68.000000</td>\n",
       "      <td>71.000000</td>\n",
       "      <td>0.000000</td>\n",
       "    </tr>\n",
       "    <tr>\n",
       "      <th>50%</th>\n",
       "      <td>0.000000</td>\n",
       "      <td>49.000000</td>\n",
       "      <td>2.000000</td>\n",
       "      <td>0.000000</td>\n",
       "      <td>0.000000</td>\n",
       "      <td>0.000000</td>\n",
       "      <td>0.000000</td>\n",
       "      <td>0.000000</td>\n",
       "      <td>0.000000</td>\n",
       "      <td>234.000000</td>\n",
       "      <td>128.000000</td>\n",
       "      <td>82.000000</td>\n",
       "      <td>25.400000</td>\n",
       "      <td>75.000000</td>\n",
       "      <td>78.000000</td>\n",
       "      <td>0.000000</td>\n",
       "    </tr>\n",
       "    <tr>\n",
       "      <th>75%</th>\n",
       "      <td>1.000000</td>\n",
       "      <td>56.000000</td>\n",
       "      <td>3.000000</td>\n",
       "      <td>1.000000</td>\n",
       "      <td>20.000000</td>\n",
       "      <td>0.000000</td>\n",
       "      <td>0.000000</td>\n",
       "      <td>1.000000</td>\n",
       "      <td>0.000000</td>\n",
       "      <td>263.000000</td>\n",
       "      <td>144.000000</td>\n",
       "      <td>90.000000</td>\n",
       "      <td>28.040000</td>\n",
       "      <td>83.000000</td>\n",
       "      <td>87.000000</td>\n",
       "      <td>0.000000</td>\n",
       "    </tr>\n",
       "    <tr>\n",
       "      <th>max</th>\n",
       "      <td>1.000000</td>\n",
       "      <td>70.000000</td>\n",
       "      <td>4.000000</td>\n",
       "      <td>1.000000</td>\n",
       "      <td>70.000000</td>\n",
       "      <td>1.000000</td>\n",
       "      <td>1.000000</td>\n",
       "      <td>1.000000</td>\n",
       "      <td>1.000000</td>\n",
       "      <td>696.000000</td>\n",
       "      <td>295.000000</td>\n",
       "      <td>142.500000</td>\n",
       "      <td>56.800000</td>\n",
       "      <td>143.000000</td>\n",
       "      <td>394.000000</td>\n",
       "      <td>1.000000</td>\n",
       "    </tr>\n",
       "  </tbody>\n",
       "</table>\n",
       "</div>"
      ],
      "text/plain": [
       "              male          age    education  currentSmoker   cigsPerDay  \\\n",
       "count  4240.000000  4240.000000  4135.000000    4240.000000  4211.000000   \n",
       "mean      0.429245    49.580189     1.979444       0.494104     9.005937   \n",
       "std       0.495027     8.572942     1.019791       0.500024    11.922462   \n",
       "min       0.000000    32.000000     1.000000       0.000000     0.000000   \n",
       "25%       0.000000    42.000000     1.000000       0.000000     0.000000   \n",
       "50%       0.000000    49.000000     2.000000       0.000000     0.000000   \n",
       "75%       1.000000    56.000000     3.000000       1.000000    20.000000   \n",
       "max       1.000000    70.000000     4.000000       1.000000    70.000000   \n",
       "\n",
       "            BPMeds  prevalentStroke  prevalentHyp     diabetes      totChol  \\\n",
       "count  4187.000000      4240.000000   4240.000000  4240.000000  4190.000000   \n",
       "mean      0.029615         0.005896      0.310613     0.025708   236.699523   \n",
       "std       0.169544         0.076569      0.462799     0.158280    44.591284   \n",
       "min       0.000000         0.000000      0.000000     0.000000   107.000000   \n",
       "25%       0.000000         0.000000      0.000000     0.000000   206.000000   \n",
       "50%       0.000000         0.000000      0.000000     0.000000   234.000000   \n",
       "75%       0.000000         0.000000      1.000000     0.000000   263.000000   \n",
       "max       1.000000         1.000000      1.000000     1.000000   696.000000   \n",
       "\n",
       "             sysBP        diaBP          BMI    heartRate      glucose  \\\n",
       "count  4240.000000  4240.000000  4221.000000  4239.000000  3852.000000   \n",
       "mean    132.354599    82.897759    25.800801    75.878981    81.963655   \n",
       "std      22.033300    11.910394     4.079840    12.025348    23.954335   \n",
       "min      83.500000    48.000000    15.540000    44.000000    40.000000   \n",
       "25%     117.000000    75.000000    23.070000    68.000000    71.000000   \n",
       "50%     128.000000    82.000000    25.400000    75.000000    78.000000   \n",
       "75%     144.000000    90.000000    28.040000    83.000000    87.000000   \n",
       "max     295.000000   142.500000    56.800000   143.000000   394.000000   \n",
       "\n",
       "        TenYearCHD  \n",
       "count  4240.000000  \n",
       "mean      0.151887  \n",
       "std       0.358953  \n",
       "min       0.000000  \n",
       "25%       0.000000  \n",
       "50%       0.000000  \n",
       "75%       0.000000  \n",
       "max       1.000000  "
      ]
     },
     "execution_count": 5,
     "metadata": {},
     "output_type": "execute_result"
    }
   ],
   "source": [
    "#Describe the data set given\n",
    "data.describe()"
   ]
  },
  {
   "cell_type": "code",
   "execution_count": 6,
   "id": "9e444a73-f4d3-4496-9da5-beba82756851",
   "metadata": {},
   "outputs": [
    {
     "name": "stdout",
     "output_type": "stream",
     "text": [
      "<class 'pandas.core.frame.DataFrame'>\n",
      "RangeIndex: 4240 entries, 0 to 4239\n",
      "Data columns (total 16 columns):\n",
      " #   Column           Non-Null Count  Dtype  \n",
      "---  ------           --------------  -----  \n",
      " 0   male             4240 non-null   int64  \n",
      " 1   age              4240 non-null   int64  \n",
      " 2   education        4135 non-null   float64\n",
      " 3   currentSmoker    4240 non-null   int64  \n",
      " 4   cigsPerDay       4211 non-null   float64\n",
      " 5   BPMeds           4187 non-null   float64\n",
      " 6   prevalentStroke  4240 non-null   int64  \n",
      " 7   prevalentHyp     4240 non-null   int64  \n",
      " 8   diabetes         4240 non-null   int64  \n",
      " 9   totChol          4190 non-null   float64\n",
      " 10  sysBP            4240 non-null   float64\n",
      " 11  diaBP            4240 non-null   float64\n",
      " 12  BMI              4221 non-null   float64\n",
      " 13  heartRate        4239 non-null   float64\n",
      " 14  glucose          3852 non-null   float64\n",
      " 15  TenYearCHD       4240 non-null   int64  \n",
      "dtypes: float64(9), int64(7)\n",
      "memory usage: 530.1 KB\n"
     ]
    }
   ],
   "source": [
    "#Print the info of the given Data Set\n",
    "data.info()"
   ]
  },
  {
   "cell_type": "code",
   "execution_count": 7,
   "id": "a1ad2e7e-c578-4987-9b06-3b4a66716d19",
   "metadata": {},
   "outputs": [
    {
     "data": {
      "text/plain": [
       "male                 0\n",
       "age                  0\n",
       "education          105\n",
       "currentSmoker        0\n",
       "cigsPerDay          29\n",
       "BPMeds              53\n",
       "prevalentStroke      0\n",
       "prevalentHyp         0\n",
       "diabetes             0\n",
       "totChol             50\n",
       "sysBP                0\n",
       "diaBP                0\n",
       "BMI                 19\n",
       "heartRate            1\n",
       "glucose            388\n",
       "TenYearCHD           0\n",
       "dtype: int64"
      ]
     },
     "execution_count": 7,
     "metadata": {},
     "output_type": "execute_result"
    }
   ],
   "source": [
    "# To check how many places are empty in data set\n",
    "data.isnull().sum()"
   ]
  },
  {
   "cell_type": "code",
   "execution_count": 8,
   "id": "3f76a7e9-89a0-44a1-b613-ba4edd6c5dcd",
   "metadata": {},
   "outputs": [],
   "source": [
    "#convert all columns in the data DataFrame to numeric data types\n",
    "data = data.apply(pd.to_numeric, errors='coerce')"
   ]
  },
  {
   "cell_type": "code",
   "execution_count": 9,
   "id": "6299b442-e05c-4f85-9c5c-74a6a25b2cfa",
   "metadata": {},
   "outputs": [],
   "source": [
    "#Drop all the null rows in Data\n",
    "data = data.dropna()"
   ]
  },
  {
   "cell_type": "code",
   "execution_count": 10,
   "id": "a15e5eea-d30b-45b8-9633-957b7e5e2e13",
   "metadata": {},
   "outputs": [],
   "source": [
    "#Split the Given Data Set Into X and y\n",
    "X = data.iloc[:,:-1].values\n",
    "y = data.iloc[:,-1].values"
   ]
  },
  {
   "cell_type": "markdown",
   "id": "f8d173ea-9867-4f5c-80b6-5f75cff0fb2a",
   "metadata": {},
   "source": [
    "## Function Defination Part"
   ]
  },
  {
   "cell_type": "markdown",
   "id": "3fd2a4f6-9f8c-4abb-b81d-2e2272667582",
   "metadata": {},
   "source": [
    "### Test And Train Split"
   ]
  },
  {
   "cell_type": "code",
   "execution_count": 11,
   "id": "1cdcf36b-a223-4f70-ae32-c38a19d13269",
   "metadata": {},
   "outputs": [],
   "source": [
    "#Function to split data into train and test \n",
    "def train_test_split(X, y, test_size=0.25, random_state=None):\n",
    "    if random_state is not None:\n",
    "        np.random.seed(random_state)\n",
    "    indices = np.arange(X.shape[0])\n",
    "    np.random.shuffle(indices)\n",
    "    \n",
    "    split_index = int(X.shape[0] * (1 - test_size))\n",
    "    \n",
    "    train_indices = indices[:split_index]\n",
    "    test_indices = indices[split_index:]\n",
    "    \n",
    "    X_train = X[train_indices]\n",
    "    X_test = X[test_indices]\n",
    "    y_train = y[train_indices]\n",
    "    y_test = y[test_indices]\n",
    "    \n",
    "    return X_train, X_test, y_train, y_test"
   ]
  },
  {
   "cell_type": "markdown",
   "id": "f69c6de4-d510-4eaf-b7ec-dfd401aeea34",
   "metadata": {},
   "source": [
    "### Min Max Scaler "
   ]
  },
  {
   "cell_type": "code",
   "execution_count": 12,
   "id": "94562411-5bae-4166-98c8-b0ded2b6aa91",
   "metadata": {},
   "outputs": [],
   "source": [
    "#Function for doing the min max scalling\n",
    "def min_max_scaler(X, feature_range=(0, 1)):\n",
    "    X_min = np.min(X, axis=0)\n",
    "    X_max = np.max(X, axis=0)\n",
    "\n",
    "    X_scaled = (X-X_min)/(X_max-X_min)\n",
    "\n",
    "    return X_scaled"
   ]
  },
  {
   "cell_type": "markdown",
   "id": "7c7a2252-c279-48a9-b592-d055d071ba4c",
   "metadata": {},
   "source": [
    "### Creating the Sigmoid Function"
   ]
  },
  {
   "cell_type": "code",
   "execution_count": 13,
   "id": "b03b06a1-44ad-49db-b957-bc27df007a33",
   "metadata": {},
   "outputs": [],
   "source": [
    "#function for finding sigmoid of given data\n",
    "def sigmoid(z):\n",
    "    g = None\n",
    "    z = z.astype(float)\n",
    "    g = 1 / (1 + np.exp(-z))\n",
    "    return g"
   ]
  },
  {
   "cell_type": "markdown",
   "id": "ab62d597-cbe2-47be-bee2-b58ef13e5f40",
   "metadata": {},
   "source": [
    "### Loss Function"
   ]
  },
  {
   "cell_type": "code",
   "execution_count": 14,
   "id": "ad596ec1-cde1-4f02-8343-21ea1b037d5e",
   "metadata": {},
   "outputs": [],
   "source": [
    "#Loss function for the caliculation of the loss\n",
    "def loss_function(X, y, w, b):\n",
    "    m, n = X.shape\n",
    "    total_cost = 0\n",
    "    z = np.dot(X, w.T) + b\n",
    "    f_wb = sigmoid(z)\n",
    "    #Appling clipping for removing log(0)\n",
    "    f_wb = np.clip(f_wb, 1e-10, 1 - 1e-10)\n",
    "    for i in range(m):\n",
    "        total_cost += -y[i] * np.log(f_wb[i]) - (1 - y[i]) * np.log(1 - f_wb[i])\n",
    "    total_cost = total_cost[0]/m\n",
    "    return total_cost"
   ]
  },
  {
   "cell_type": "markdown",
   "id": "6c939c4f-b622-4a30-b73c-3ace1f843101",
   "metadata": {},
   "source": [
    "### Computing the Gradient of the Loss"
   ]
  },
  {
   "cell_type": "code",
   "execution_count": 15,
   "id": "900ef73a-395f-4a96-89d6-e3f06915e64e",
   "metadata": {},
   "outputs": [],
   "source": [
    "#Gradient Calicuating function for Logistic Regression\n",
    "def compute_gradient_logistic_regression(X, y, w, b):\n",
    "    m, n = X.shape\n",
    "    z = np.dot(X, w.T) + b\n",
    "    f_wb = sigmoid(z)\n",
    "    dj_db = np.sum(f_wb - y.reshape(-1,1))/m\n",
    "    dj_dw = np.dot((f_wb - y.reshape(-1,1)).T, X)/m\n",
    "    return dj_db, dj_dw"
   ]
  },
  {
   "cell_type": "markdown",
   "id": "2a160142-113d-4084-97e7-fd30ce6ae5bc",
   "metadata": {},
   "source": [
    "### Training the model using Batch Gradient Descent"
   ]
  },
  {
   "cell_type": "code",
   "execution_count": 16,
   "id": "27206ca7-2b81-4116-a391-512ecf85b5bb",
   "metadata": {},
   "outputs": [],
   "source": [
    "#funtion for applying Gradient Descent Algorithm\n",
    "def batch_gradient_descent_logistic_regression(X, y, w_in, b_in, alpha, num_iters) :\n",
    "    m = len(X)\n",
    "    # list to store the loss values for every iterations\n",
    "    loss_hist = []\n",
    "    for i in range(1,num_iters+1):\n",
    "      dj_db, dj_dw = compute_gradient_logistic_regression(X, y, w_in, b_in)\n",
    "      loss = loss_function(X, y, w_in, b_in)\n",
    "      loss_hist.append(loss)\n",
    "      if(i%100==0):\n",
    "        print(f\"Iteration {i:4}: Loss {loss}\")\n",
    "      w_in = w_in - alpha * dj_dw\n",
    "      b_in = b_in - alpha * dj_db\n",
    "    return w_in, b_in, loss_hist"
   ]
  },
  {
   "cell_type": "markdown",
   "id": "5179ab57-95bd-4c6e-b375-d3739b58156c",
   "metadata": {},
   "source": [
    "### Initialize Parameters Function"
   ]
  },
  {
   "cell_type": "code",
   "execution_count": 17,
   "id": "5110c2d5-4693-47a6-a14b-618d0392884e",
   "metadata": {},
   "outputs": [],
   "source": [
    "#Function for initializing parameters \n",
    "def initialize_parameters(n):\n",
    "    #Done seeding for making result same over any number of runs\n",
    "    np.random.seed(27)\n",
    "    alpha = np.random.uniform(0.01, 0.09)\n",
    "    initial_w = np.random.normal(0, 1, (1,n))\n",
    "    initial_b = np.random.normal(0,1)\n",
    "    return initial_w,initial_b,alpha"
   ]
  },
  {
   "cell_type": "markdown",
   "id": "45a4f8ff-6de8-41b1-9dec-ea409a0c21b4",
   "metadata": {},
   "source": [
    "### Predict Function"
   ]
  },
  {
   "cell_type": "code",
   "execution_count": 18,
   "id": "759f48cb-9fe7-4139-9d8a-4560246c0ee7",
   "metadata": {},
   "outputs": [],
   "source": [
    "#Funtion forr Prediction\n",
    "def predict(X, w, b):\n",
    "    m, n = X.shape\n",
    "    p = np.zeros(m)\n",
    "    z = np.dot(X, w.T) + b\n",
    "    f_wb = sigmoid(z)\n",
    "    p = np.where(f_wb >= 0.5, 1, 0)\n",
    "    p = p.reshape(1,-1)\n",
    "    return p"
   ]
  },
  {
   "cell_type": "markdown",
   "id": "ffa271c1-a45d-46ae-a06d-8e9e33d669fa",
   "metadata": {},
   "source": [
    "## Calling the function and Training the Modal Part"
   ]
  },
  {
   "cell_type": "code",
   "execution_count": 19,
   "id": "528b0193-d750-4fc1-a934-c66a319ccfb9",
   "metadata": {},
   "outputs": [],
   "source": [
    "# Min-Max scalling of X\n",
    "X=min_max_scaler(X)"
   ]
  },
  {
   "cell_type": "code",
   "execution_count": 20,
   "id": "4b438b32-bfd0-492c-9cdb-a61e5403ffaa",
   "metadata": {},
   "outputs": [],
   "source": [
    "#Diving the X and y as Train and Test Set\n",
    "X_train, X_test, y_train, y_test = train_test_split(X, y, test_size=0.25, random_state=42)"
   ]
  },
  {
   "cell_type": "code",
   "execution_count": 21,
   "id": "ae0db8d1-f1b9-4923-9f57-ab90bdd579b5",
   "metadata": {},
   "outputs": [
    {
     "name": "stdout",
     "output_type": "stream",
     "text": [
      "alpha :  0.044057712841511665\n",
      "Initial w :  [[ 0.58828344  0.786179   -0.3072844   0.96966551  0.67761997 -0.81340079\n",
      "   0.77052666  0.32498915  0.4220812   0.60623081 -0.22623987  0.26733617\n",
      "  -1.07940753 -1.4818259  -0.46384722]]\n",
      "Initial b :  0.390434102408928\n",
      "Iteration  100: Loss 0.44746347846489987\n",
      "Iteration  200: Loss 0.42929000324896766\n",
      "Iteration  300: Loss 0.42368169426762164\n",
      "Iteration  400: Loss 0.4196621386072345\n",
      "Iteration  500: Loss 0.4165206167001173\n",
      "Iteration  600: Loss 0.41401404478669174\n",
      "Iteration  700: Loss 0.4119768913031789\n",
      "Iteration  800: Loss 0.4102893615034494\n",
      "Iteration  900: Loss 0.4088646599458332\n",
      "Iteration 1000: Loss 0.40763980073443473\n",
      "optimized parameter values w: [[ 0.17218046  0.69560744 -0.67845437 -0.04761184  0.45995336 -0.61341347\n",
      "   0.77804002  0.764728    0.59774751  0.29492865 -0.28579047 -0.04526236\n",
      "  -1.29591663 -1.84277744 -0.49844946]]\n",
      "optimized parameter value b: -1.19296422222807\n"
     ]
    }
   ],
   "source": [
    "# initialize the parameters (w an b) randomly\n",
    "initial_w, initial_b, alpha = initialize_parameters(X.shape[1])\n",
    "num_iterations = 1000\n",
    "print(\"alpha : \",alpha)\n",
    "print(\"Initial w : \",initial_w)\n",
    "print(\"Initial b : \",initial_b)\n",
    "w, b, loss_hist = batch_gradient_descent_logistic_regression(X_train ,y_train, initial_w, initial_b, alpha, num_iterations)\n",
    "print(\"optimized parameter values w:\", w)\n",
    "print(\"optimized parameter value b:\", b)"
   ]
  },
  {
   "cell_type": "markdown",
   "id": "80fb9d26-7383-4e7c-b05a-c0d7d6eb0522",
   "metadata": {},
   "source": [
    "### Final Train and Test Accuracy"
   ]
  },
  {
   "cell_type": "code",
   "execution_count": 22,
   "id": "8828ba83-aed8-44a9-a28f-604fbc06196f",
   "metadata": {},
   "outputs": [],
   "source": [
    "def accuracy(y, p):\n",
    "    return np.mean(y == p)*100\n",
    "\n",
    "# Confusion matrix calculation\n",
    "def confusion_matrix(y,p):\n",
    "    tp = np.sum((y == 1) & (p == 1))\n",
    "    tn = np.sum((y == 0) & (p == 0))\n",
    "    fp = np.sum((y == 0) & (p == 1))\n",
    "    fn = np.sum((y == 1) & (p == 0))\n",
    "    return np.array([[tp, fp], [fn, tn]])\n",
    "\n",
    "# Precision, Recall, and F1-Score\n",
    "def precision(y, p):\n",
    "    tp = np.sum((y == 1) & (p == 1))\n",
    "    fp = np.sum((y == 0) & (p == 1))\n",
    "    return tp / (tp + fp) if (tp + fp) != 0 else 0\n",
    "\n",
    "def recall(y, p):\n",
    "    tp = np.sum((y == 1) & (p == 1))\n",
    "    fn = np.sum((y == 1) & (p == 0))\n",
    "    return tp / (tp + fn) if (tp + fn) != 0 else 0\n",
    "\n",
    "def f1_score(y, p):\n",
    "    p = precision(y, p)\n",
    "    r = recall(y, p)\n",
    "    return 2 * (p * r) / (p + r) if (p + r) != 0 else 0\n",
    "    "
   ]
  },
  {
   "cell_type": "code",
   "execution_count": 23,
   "id": "c10f3938-705c-4e40-a734-86b4531c2786",
   "metadata": {},
   "outputs": [
    {
     "name": "stdout",
     "output_type": "stream",
     "text": [
      "For Train data:\n",
      "Train Accuracy: 84.651841\n",
      "Train confusion matrix: \n",
      "[[   2    0]\n",
      " [ 421 2320]]\n",
      "Train Precision: 1.000000\n",
      "Train Recall: 0.004728\n",
      "Train F1 Score: 1.000000\n",
      "\n",
      "For Test data:\n",
      "Test Accuracy: 85.464481\n",
      "Train confusion matrix: \n",
      "[[  1   0]\n",
      " [133 781]]\n",
      "Train Precision: 1.000000\n",
      "Train Recall: 0.007463\n",
      "Train F1 Score: 1.000000\n",
      "\n",
      "For Total data:\n",
      "Accuracy: 84.855112\n",
      "confusion matrix: \n",
      "[[   3    0]\n",
      " [ 554 3101]]\n",
      "Precision: 1.000000\n",
      "Recall: 0.005386\n",
      "F1 Score: 1.000000\n"
     ]
    }
   ],
   "source": [
    "#prediction for Accuracy of train data\n",
    "print('For Train data:')\n",
    "p_train = predict(X_train, w,b)\n",
    "print('Train Accuracy: %f'%accuracy(y_train,p_train))\n",
    "print(f'Train confusion matrix: \\n{confusion_matrix(y_train,p_train)}')\n",
    "print('Train Precision: %f'%precision(y_train,p_train))\n",
    "print('Train Recall: %f'%recall(y_train,p_train))\n",
    "print('Train F1 Score: %f'%f1_score(y_train,p_train))\n",
    "\n",
    "#prediction for Accuracy of test data\n",
    "print('\\nFor Test data:')\n",
    "p_test = predict(X_test, w,b)\n",
    "print('Test Accuracy: %f'%accuracy(y_test,p_test))\n",
    "print(f'Train confusion matrix: \\n{confusion_matrix(y_test,p_test)}')\n",
    "print('Train Precision: %f'%precision(y_test,p_test))\n",
    "print('Train Recall: %f'%recall(y_test,p_test))\n",
    "print('Train F1 Score: %f'%f1_score(y_test,p_test))\n",
    "\n",
    "#prediction for Accuracy of test data\n",
    "print('\\nFor Total data:')\n",
    "p = predict(X, w,b)\n",
    "print('Accuracy: %f'%accuracy(y,p))\n",
    "print(f'confusion matrix: \\n{confusion_matrix(y,p)}')\n",
    "print('Precision: %f'%precision(y,p))\n",
    "print('Recall: %f'%recall(y,p))\n",
    "print('F1 Score: %f'%f1_score(y,p))"
   ]
  },
  {
   "cell_type": "code",
   "execution_count": 24,
   "id": "f8385f5e-0b6e-4059-8776-929984896be9",
   "metadata": {},
   "outputs": [
    {
     "data": {
      "image/png": "[encoded data removed]",
      "text/plain": [
       "<Figure size 640x480 with 1 Axes>"
      ]
     },
     "metadata": {},
     "output_type": "display_data"
    }
   ],
   "source": [
    "# PLotting the loss values for every training iterations\n",
    "loss_plot = [loss_hist[i] for i in range(len(loss_hist))]\n",
    "plt.xlabel(\"Iterations\")\n",
    "plt.ylabel(\"Loss function\")\n",
    "plt.plot(loss_plot)\n",
    "plt.show()"
   ]
  }
 ],
 "metadata": {
  "kernelspec": {
   "display_name": "Python 3 (ipykernel)",
   "language": "python",
   "name": "python3"
  },
  "language_info": {
   "codemirror_mode": {
    "name": "ipython",
    "version": 3
   },
   "file_extension": ".py",
   "mimetype": "text/x-python",
   "name": "python",
   "nbconvert_exporter": "python",
   "pygments_lexer": "ipython3",
   "version": "3.12.3"
  }
 },
 "nbformat": 4,
 "nbformat_minor": 5
}
