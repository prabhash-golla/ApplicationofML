{
 "cells": [
  {
   "cell_type": "code",
   "execution_count": 1,
   "metadata": {},
   "outputs": [],
   "source": [
    "import numpy as np\n",
    "import pandas as pd"
   ]
  },
  {
   "cell_type": "code",
   "execution_count": 2,
   "metadata": {},
   "outputs": [],
   "source": [
    "# Mean Squared Error loss\n",
    "def mse_loss(y_true, y_pred):\n",
    "    return np.mean((y_true - y_pred) ** 2)"
   ]
  },
  {
   "cell_type": "code",
   "execution_count": 3,
   "metadata": {},
   "outputs": [],
   "source": [
    "# Load dataset\n",
    "data = data = pd.read_csv('./housing.csv')"
   ]
  },
  {
   "cell_type": "code",
   "execution_count": 4,
   "metadata": {},
   "outputs": [
    {
     "data": {
      "text/html": [
       "<div>\n",
       "<style scoped>\n",
       "    .dataframe tbody tr th:only-of-type {\n",
       "        vertical-align: middle;\n",
       "    }\n",
       "\n",
       "    .dataframe tbody tr th {\n",
       "        vertical-align: top;\n",
       "    }\n",
       "\n",
       "    .dataframe thead th {\n",
       "        text-align: right;\n",
       "    }\n",
       "</style>\n",
       "<table border=\"1\" class=\"dataframe\">\n",
       "  <thead>\n",
       "    <tr style=\"text-align: right;\">\n",
       "      <th></th>\n",
       "      <th>RM</th>\n",
       "      <th>LSTAT</th>\n",
       "      <th>PTRATIO</th>\n",
       "      <th>MEDV</th>\n",
       "    </tr>\n",
       "  </thead>\n",
       "  <tbody>\n",
       "    <tr>\n",
       "      <th>0</th>\n",
       "      <td>6.575</td>\n",
       "      <td>4.98</td>\n",
       "      <td>15.3</td>\n",
       "      <td>504000.0</td>\n",
       "    </tr>\n",
       "    <tr>\n",
       "      <th>1</th>\n",
       "      <td>6.421</td>\n",
       "      <td>9.14</td>\n",
       "      <td>17.8</td>\n",
       "      <td>453600.0</td>\n",
       "    </tr>\n",
       "    <tr>\n",
       "      <th>2</th>\n",
       "      <td>7.185</td>\n",
       "      <td>4.03</td>\n",
       "      <td>17.8</td>\n",
       "      <td>728700.0</td>\n",
       "    </tr>\n",
       "    <tr>\n",
       "      <th>3</th>\n",
       "      <td>6.998</td>\n",
       "      <td>2.94</td>\n",
       "      <td>18.7</td>\n",
       "      <td>701400.0</td>\n",
       "    </tr>\n",
       "    <tr>\n",
       "      <th>4</th>\n",
       "      <td>7.147</td>\n",
       "      <td>5.33</td>\n",
       "      <td>18.7</td>\n",
       "      <td>760200.0</td>\n",
       "    </tr>\n",
       "  </tbody>\n",
       "</table>\n",
       "</div>"
      ],
      "text/plain": [
       "      RM  LSTAT  PTRATIO      MEDV\n",
       "0  6.575   4.98     15.3  504000.0\n",
       "1  6.421   9.14     17.8  453600.0\n",
       "2  7.185   4.03     17.8  728700.0\n",
       "3  6.998   2.94     18.7  701400.0\n",
       "4  7.147   5.33     18.7  760200.0"
      ]
     },
     "execution_count": 4,
     "metadata": {},
     "output_type": "execute_result"
    }
   ],
   "source": [
    "# Print The head of the data \n",
    "data.head()"
   ]
  },
  {
   "cell_type": "code",
   "execution_count": 5,
   "metadata": {},
   "outputs": [
    {
     "data": {
      "text/plain": [
       "RM         0\n",
       "LSTAT      0\n",
       "PTRATIO    0\n",
       "MEDV       0\n",
       "dtype: int64"
      ]
     },
     "execution_count": 5,
     "metadata": {},
     "output_type": "execute_result"
    }
   ],
   "source": [
    "#Printing the number of NULL elements\n",
    "data.isnull().sum()"
   ]
  },
  {
   "cell_type": "code",
   "execution_count": 6,
   "metadata": {},
   "outputs": [],
   "source": [
    "#Remove Row in Rows with NULL \n",
    "data = data.dropna()"
   ]
  },
  {
   "cell_type": "code",
   "execution_count": 7,
   "metadata": {},
   "outputs": [
    {
     "data": {
      "text/html": [
       "<div>\n",
       "<style scoped>\n",
       "    .dataframe tbody tr th:only-of-type {\n",
       "        vertical-align: middle;\n",
       "    }\n",
       "\n",
       "    .dataframe tbody tr th {\n",
       "        vertical-align: top;\n",
       "    }\n",
       "\n",
       "    .dataframe thead th {\n",
       "        text-align: right;\n",
       "    }\n",
       "</style>\n",
       "<table border=\"1\" class=\"dataframe\">\n",
       "  <thead>\n",
       "    <tr style=\"text-align: right;\">\n",
       "      <th></th>\n",
       "      <th>RM</th>\n",
       "      <th>LSTAT</th>\n",
       "      <th>PTRATIO</th>\n",
       "      <th>MEDV</th>\n",
       "    </tr>\n",
       "  </thead>\n",
       "  <tbody>\n",
       "    <tr>\n",
       "      <th>count</th>\n",
       "      <td>489.000000</td>\n",
       "      <td>489.000000</td>\n",
       "      <td>489.000000</td>\n",
       "      <td>4.890000e+02</td>\n",
       "    </tr>\n",
       "    <tr>\n",
       "      <th>mean</th>\n",
       "      <td>6.240288</td>\n",
       "      <td>12.939632</td>\n",
       "      <td>18.516564</td>\n",
       "      <td>4.543429e+05</td>\n",
       "    </tr>\n",
       "    <tr>\n",
       "      <th>std</th>\n",
       "      <td>0.643650</td>\n",
       "      <td>7.081990</td>\n",
       "      <td>2.111268</td>\n",
       "      <td>1.653403e+05</td>\n",
       "    </tr>\n",
       "    <tr>\n",
       "      <th>min</th>\n",
       "      <td>3.561000</td>\n",
       "      <td>1.980000</td>\n",
       "      <td>12.600000</td>\n",
       "      <td>1.050000e+05</td>\n",
       "    </tr>\n",
       "    <tr>\n",
       "      <th>25%</th>\n",
       "      <td>5.880000</td>\n",
       "      <td>7.370000</td>\n",
       "      <td>17.400000</td>\n",
       "      <td>3.507000e+05</td>\n",
       "    </tr>\n",
       "    <tr>\n",
       "      <th>50%</th>\n",
       "      <td>6.185000</td>\n",
       "      <td>11.690000</td>\n",
       "      <td>19.100000</td>\n",
       "      <td>4.389000e+05</td>\n",
       "    </tr>\n",
       "    <tr>\n",
       "      <th>75%</th>\n",
       "      <td>6.575000</td>\n",
       "      <td>17.120000</td>\n",
       "      <td>20.200000</td>\n",
       "      <td>5.187000e+05</td>\n",
       "    </tr>\n",
       "    <tr>\n",
       "      <th>max</th>\n",
       "      <td>8.398000</td>\n",
       "      <td>37.970000</td>\n",
       "      <td>22.000000</td>\n",
       "      <td>1.024800e+06</td>\n",
       "    </tr>\n",
       "  </tbody>\n",
       "</table>\n",
       "</div>"
      ],
      "text/plain": [
       "               RM       LSTAT     PTRATIO          MEDV\n",
       "count  489.000000  489.000000  489.000000  4.890000e+02\n",
       "mean     6.240288   12.939632   18.516564  4.543429e+05\n",
       "std      0.643650    7.081990    2.111268  1.653403e+05\n",
       "min      3.561000    1.980000   12.600000  1.050000e+05\n",
       "25%      5.880000    7.370000   17.400000  3.507000e+05\n",
       "50%      6.185000   11.690000   19.100000  4.389000e+05\n",
       "75%      6.575000   17.120000   20.200000  5.187000e+05\n",
       "max      8.398000   37.970000   22.000000  1.024800e+06"
      ]
     },
     "execution_count": 7,
     "metadata": {},
     "output_type": "execute_result"
    }
   ],
   "source": [
    "#Describe the Data\n",
    "data.describe()"
   ]
  },
  {
   "cell_type": "code",
   "execution_count": 8,
   "metadata": {},
   "outputs": [],
   "source": [
    "def mean_squared_error(y_true, y_pred):\n",
    "    return np.mean((y_true - y_pred) ** 2)\n",
    "\n",
    "def rmse(y_true, y_pred):\n",
    "    return np.sqrt(np.mean((y_true - y_pred) ** 2))\n",
    "\n",
    "def r_squared(y_true, y_pred):\n",
    "    ss_total = np.sum((y_true - np.mean(y_true)) ** 2)\n",
    "    ss_residual = np.sum((y_true - y_pred) ** 2)\n",
    "    return 1 - (ss_residual / ss_total)"
   ]
  },
  {
   "cell_type": "code",
   "execution_count": 9,
   "metadata": {
    "colab": {
     "base_uri": "https://localhost:8080/"
    },
    "executionInfo": {
     "elapsed": 469,
     "status": "ok",
     "timestamp": 1693807601735,
     "user": {
      "displayName": "Suman Bera",
      "userId": "13633309447925846459"
     },
     "user_tz": -330
    },
    "id": "6FnrPWn3GOZt",
    "outputId": "4ec1398f-8c87-4b62-9ab4-52b6ff69efa4"
   },
   "outputs": [],
   "source": [
    "class NN:\n",
    "    def __init__(self, input_layer_size, hidden_layer_size, output_layer_size, lr, epoches=1000):  # constructor with flexible inputs\n",
    "        self.input_layer_size = input_layer_size\n",
    "        self.hidden_layer_size = hidden_layer_size\n",
    "        self.output_layer_size = output_layer_size\n",
    "        self.lr = lr\n",
    "        self.number_of_epoches = epoches\n",
    "\n",
    "        # Initialize the weights for input-to-hidden and hidden-to-output layers\n",
    "        self.W1 = np.random.randn(self.input_layer_size, self.hidden_layer_size)\n",
    "        self.W2 = np.random.randn(self.hidden_layer_size, self.output_layer_size)\n",
    "\n",
    "        # Bias terms (optional took values from example provided)\n",
    "        self.b1 = 0.40\n",
    "        self.b2 = 0.80\n",
    "\n",
    "    # Activation function (sigmoid)\n",
    "    def activation(self, x):\n",
    "        return 1 / (1 + np.exp(-x))\n",
    "\n",
    "    # Forward pass\n",
    "    def forward(self, X):\n",
    "        self.hidden = self.activation(np.dot(X, self.W1) + self.b1)  # H = activation(X * W1 + b1)\n",
    "        self.output = self.activation(np.dot(self.hidden, self.W2) + self.b2)  # Output = activation(H * W2 + b2)\n",
    "        return self.output\n",
    "\n",
    "    # Backpropagation\n",
    "    def back_prop(self, X, y):\n",
    "        output = self.forward(X)\n",
    "        # Output layer -> Hidden layer weight update (W2)\n",
    "        delta_output = -(y - output) * output * (1 - output)  # Output layer error gradient\n",
    "        self.W2 -= self.lr * np.dot(self.hidden.T, delta_output)  # Update W2\n",
    "\n",
    "        # Hidden layer -> Input layer weight update (W1)\n",
    "        delta_hidden = np.dot(delta_output, self.W2.T) * self.hidden * (1 - self.hidden)  # Hidden layer error gradient\n",
    "        self.W1 -= self.lr * np.dot(X.T, delta_hidden)  # Update W1\n",
    "\n",
    "    # Training the network\n",
    "    def train(self, X, y):\n",
    "        for epoch in range(self.number_of_epoches):\n",
    "            self.back_prop(X, y)\n",
    "            # Optional: Calculate and print the loss after each epoch\n",
    "            # output = self.forward(X)\n",
    "            # loss = mean_squared_error(y, output)\n",
    "            # print(f'Epoch {epoch + 1}/{self.number_of_epoches}, Loss: {loss}')\n",
    "\n",
    "    # Prediction\n",
    "    def predict(self, X):\n",
    "        return self.forward(X)"
   ]
  },
  {
   "cell_type": "code",
   "execution_count": 10,
   "metadata": {},
   "outputs": [],
   "source": [
    "def cross_validation(X, y, k, model_class, **kwargs):\n",
    "    fold_size = len(X) // k\n",
    "    indices = np.arange(len(X))\n",
    "    np.random.shuffle(indices)\n",
    "\n",
    "    mse_scores = []\n",
    "    r2_scores = []\n",
    "\n",
    "    for i in range(k):\n",
    "        # Define the validation and training set\n",
    "        val_indices = indices[i * fold_size:(i + 1) * fold_size]\n",
    "        train_indices = np.concatenate((indices[:i * fold_size], indices[(i + 1) * fold_size:]))\n",
    "\n",
    "        X_train, X_val = X[train_indices], X[val_indices]\n",
    "        y_train, y_val = y[train_indices], y[val_indices]\n",
    "\n",
    "        # Create the model and train it\n",
    "        model = model_class(X_train.shape[1], **kwargs)\n",
    "        model.train(X_train, y_train)\n",
    "\n",
    "        # Predict and evaluate on the validation set\n",
    "        y_pred = model.predict(X_val)\n",
    "        mse_scores.append(mean_squared_error(y_val, y_pred))\n",
    "        r2_scores.append(r_squared(y_val, y_pred))\n",
    "    y_pred = model.predict(X)\n",
    "    return mse_scores[-1],r2_scores[-1]"
   ]
  },
  {
   "cell_type": "code",
   "execution_count": 13,
   "metadata": {},
   "outputs": [
    {
     "name": "stdin",
     "output_type": "stream",
     "text": [
      "Enter the number of neurons in the input layer:  3\n",
      "Enter the number of neurons in the output layer:  1\n",
      "Enter the number of epochs:  1000\n",
      "Enter the number of neurons in the hidden layer:  5\n",
      "Enter the learning rate:  0.0001\n"
     ]
    },
    {
     "name": "stdout",
     "output_type": "stream",
     "text": [
      "Performing 5-Fold Cross Validation : \n",
      "5-Fold Cross Validation MSE: 0.029463369780043294, R-squared: 0.3622072178989698\n",
      "Performing 10-Fold Cross Validation : \n",
      "10-Fold Cross Validation MSE: 0.041079637934789213, R-squared: 0.10733465392108144\n"
     ]
    }
   ],
   "source": [
    "# Get user inputs for model configuration\n",
    "input_neurons = int(input(\"Enter the number of neurons in the input layer: \"))\n",
    "output_neurons = int(input(\"Enter the number of neurons in the output layer: \"))\n",
    "epoches = int(input(\"Enter the number of epochs: \"))\n",
    "hidden_neurons = int(input(\"Enter the number of neurons in the hidden layer: \"))\n",
    "learning_rate = float(input(\"Enter the learning rate: \"))\n",
    "\n",
    "# Load your dataset (assuming df is a pandas DataFrame)\n",
    "# df will have features and targets, we select them dynamically based on user input\n",
    "X = data.iloc[:, :input_neurons].values  # Selecting the first 'input_neurons' columns as features\n",
    "y = data.iloc[:, -output_neurons:].values  # Selecting the last 'output_neurons' columns as targets\n",
    "X = (X - np.min(X)) / (np.max(X) - np.min(X))\n",
    "y = (y - np.min(y)) / (np.max(y) - np.min(y))\n",
    "\n",
    "# Perform 5-Fold Cross Validation\n",
    "print(\"Performing 5-Fold Cross Validation : \")\n",
    "mse_5, r2_5 = cross_validation(X, y, 5, NN, hidden_layer_size=hidden_neurons, output_layer_size=output_neurons, lr=learning_rate, epoches=epoches)\n",
    "print(f\"5-Fold Cross Validation MSE: {mse_5}, R-squared: {r2_5}\")\n",
    "\n",
    "# Perform 10-Fold Cross Validation\n",
    "print(\"Performing 10-Fold Cross Validation : \")\n",
    "mse_10, r2_10 = cross_validation(X, y, 10, NN, hidden_layer_size=hidden_neurons, output_layer_size=output_neurons, lr=learning_rate, epoches=epoches)\n",
    "print(f\"10-Fold Cross Validation MSE: {mse_10}, R-squared: {r2_10}\")"
   ]
  },
  {
   "cell_type": "markdown",
   "metadata": {},
   "source": [
    "## MY OUTPUTS"
   ]
  },
  {
   "cell_type": "raw",
   "metadata": {},
   "source": [
    "Outputs may varry on same Input in diffrent runs since use of rand function\n",
    "\n",
    "All the below output are for:\n",
    "Number of neurons in the input layer:  3\n",
    "Number of neurons in the output layer:  1\n",
    "Enter the number of epochs:  1000"
   ]
  },
  {
   "cell_type": "raw",
   "metadata": {},
   "source": [
    "Enter the number of neurons in the hidden layer:  3\n",
    "Enter the learning rate:  0.01\n",
    "Performing 5-Fold Cross Validation : \n",
    "5-Fold Cross Validation MSE: 0.01189765008560856, R-squared: 0.631658735917902\n",
    "Performing 10-Fold Cross Validation : \n",
    "10-Fold Cross Validation MSE: 0.007831864509759383, R-squared: 0.6815900889419308"
   ]
  },
  {
   "cell_type": "raw",
   "metadata": {},
   "source": [
    "Enter the number of neurons in the hidden layer:  4\n",
    "Enter the learning rate:  0.001\n",
    "Performing 5-Fold Cross Validation : \n",
    "5-Fold Cross Validation MSE: 0.019569384912129433, R-squared: 0.32345717625475867\n",
    "Performing 10-Fold Cross Validation : \n",
    "10-Fold Cross Validation MSE: 0.018937515024571475, R-squared: 0.3614782801166472"
   ]
  },
  {
   "cell_type": "markdown",
   "metadata": {},
   "source": [
    "Enter the number of neurons in the hidden layer:  5\n",
    "Enter the learning rate:  0.0001\n",
    "Performing 5-Fold Cross Validation : \n",
    "5-Fold Cross Validation MSE: 0.029463369780043294, R-squared: 0.3622072178989698\n",
    "Performing 10-Fold Cross Validation : \n",
    "10-Fold Cross Validation MSE: 0.041079637934789213, R-squared: 0.10733465392108144"
   ]
  }
 ],
 "metadata": {
  "colab": {
   "authorship_tag": "ABX9TyOWaaEpNfBbpWJ2/RCw6Rxt",
   "mount_file_id": "1c8KUkHlHbuPn5EvcZ-hh_8ag5PeepmdY",
   "provenance": []
  },
  "kernelspec": {
   "display_name": "Python 3 (ipykernel)",
   "language": "python",
   "name": "python3"
  },
  "language_info": {
   "codemirror_mode": {
    "name": "ipython",
    "version": 3
   },
   "file_extension": ".py",
   "mimetype": "text/x-python",
   "name": "python",
   "nbconvert_exporter": "python",
   "pygments_lexer": "ipython3",
   "version": "3.12.3"
  }
 },
 "nbformat": 4,
 "nbformat_minor": 4
}
